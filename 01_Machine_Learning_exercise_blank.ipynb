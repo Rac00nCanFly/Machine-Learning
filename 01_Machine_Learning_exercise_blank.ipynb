{
 "cells": [
  {
   "cell_type": "markdown",
   "id": "9694f910-0842-4a77-8d4d-b42750dc4a07",
   "metadata": {},
   "source": [
    "# Zadanie: Przewidywanie wieku oposów na podstawie cech morfometrycznych\n",
    "\n",
    "**Cel:**  \n",
    "W tym zadaniu mamy zbiór danych dotyczących gatunku oposów, zapisany w pliku `possum.csv`. Chcemy zbudować model regresyjny, który na podstawie wymiarów ciała i innych cech będzie przewidywał wiek osobników.\n",
    "\n",
    "**Dane:**  \n",
    "Zbiór danych zawiera następujące kolumny:\n",
    "\n",
    "- **case**: Unikalny identyfikator obserwacji.\n",
    "- **site**: Numer stanowiska (miejsce odłowu).\n",
    "- **Pop**: Populacja (np. \"Vic\" lub inna).\n",
    "- **sex**: Płeć zwierzęcia (\"m\" dla samca, \"f\" dla samicy).\n",
    "- **age**: Wiek w latach (zmienna docelowa, zawiera 2 brakujące wartości).\n",
    "- **hdlngth**: Długość głowy (mm).\n",
    "- **skullw**: Szerokość czaszki (mm).\n",
    "- **totlngth**: Całkowita długość (mm).\n",
    "- **taill**: Długość ogona (mm).\n",
    "- **footlgth**: Długość stopy (mm, 1 brakująca wartość).\n",
    "- **earconch**: Długość małżowiny usznej (mm).\n",
    "- **eye**: Wielkość oka (mm).\n",
    "- **chest**: Obwód klatki piersiowej (cm).\n",
    "- **belly**: Obwód brzucha (cm).\n",
    "\n",
    "**Problem:**  \n",
    "Zmienna docelowa to **age**. Niestety, w zbiorze danych znajdują się brakujące wartości (2 w kolumnie `age` oraz 1 w `footlgth`). Musimy je odpowiednio uzupełnić przed budową modelu.\n",
    "\n",
    "**Co należy zrobić:**\n",
    "\n",
    "1. **Wczytać dane** z pliku `possum.csv`.\n",
    "2. **Zbadać dane**: sprawdzić typy zmiennych, rozkłady, brakujące wartości.\n",
    "3. **Przetworzyć dane**:  \n",
    "   - Poradzić sobie z brakującymi wartościami w kolumnach `age` i `footlgth`.  \n",
    "   - Zakodować zmienne kategoryczne (`Pop`, `sex`) w postaci numerycznej (np. One-Hot Encoding).\n",
    "   - Zastanowić się, czy potrzebne jest skalowanie cech numerycznych.\n",
    "4. **Podzielić dane** na zbiór treningowy i testowy.\n",
    "5. **Zbudować model regresyjny** (np. regresja liniowa, Ridge, Lasso lub inny regresor) i dopasować go do danych treningowych.\n",
    "6. **Oszacować jakość modelu** na zbiorze testowym za pomocą odpowiednich miar błędu (np. MSE, MAE, R²).\n",
    "\n",
    "**Wskazówki:**\n",
    "\n",
    "- Możesz użyć `SimpleImputer` ze scikit-learn do uzupełniania braków (np. średnią dla cech numerycznych).\n",
    "- Dla cech kategorycznych możesz użyć `OneHotEncoder`.\n",
    "- Zastanów się nad pipeline’em (`Pipeline`) i `ColumnTransformerem`, aby uporządkować proces przetwarzania danych i modelowania w jednym kroku.\n",
    "- Wypróbuj różne modele i porównaj ich wyniki.\n",
    "\n",
    "**Oczekiwany rezultat:**  \n",
    "Na końcu otrzymasz model, który na podstawie wymiarów ciała i informacji o populacji oraz płci possuma będzie potrafił przewidzieć wiek z pewną dokładnością. Zwróć uwagę na interpretację wyników i oceń, czy model nadaje się do praktycznego zastosowania.\n",
    "\n"
   ]
  },
  {
   "cell_type": "code",
   "execution_count": null,
   "id": "c90659d2-9dcc-4521-baf1-3014d2eda121",
   "metadata": {},
   "outputs": [],
   "source": [
    "# Wczytaj potrzebne biblioteki\n",
    "# np. pandas, numpy, matplotlib, seaborn\n",
    "# from sklearn.model_selection import train_test_split\n",
    "# from sklearn.preprocessing import OneHotEncoder, StandardScaler\n",
    "# from sklearn.impute import SimpleImputer\n",
    "# from sklearn.compose import ColumnTransformer\n",
    "# from sklearn.pipeline import Pipeline\n",
    "# from sklearn.linear_model import LinearRegression, Ridge, Lasso\n",
    "# from sklearn.metrics import mean_squared_error, r2_score"
   ]
  },
  {
   "cell_type": "code",
   "execution_count": null,
   "id": "9b67aeb9-c7b0-4f18-a022-ed2dbdeda75f",
   "metadata": {},
   "outputs": [],
   "source": [
    "\n",
    "# 1. Wczytaj dane z pliku possum.csv\n",
    "# df = ...\n"
   ]
  },
  {
   "cell_type": "code",
   "execution_count": null,
   "id": "4a75a200-a561-4782-a3e3-cb3d4f89d674",
   "metadata": {},
   "outputs": [],
   "source": [
    "\n",
    "# 2. Wyświetl podstawowe informacje o danych (rozmiar, nagłówki, info o kolumnach)\n",
    "# print(...)\n",
    "# display(...)\n",
    "# df.info()"
   ]
  },
  {
   "cell_type": "code",
   "execution_count": null,
   "id": "b9ee86c0-5fe1-435e-9bda-6325e6182d87",
   "metadata": {},
   "outputs": [],
   "source": [
    "\n",
    "# 3. Sprawdź brakujące wartości\n",
    "# print(df.isnull().sum())\n"
   ]
  },
  {
   "cell_type": "code",
   "execution_count": null,
   "id": "0e511060-9bfd-42ff-af84-73bb70985f47",
   "metadata": {},
   "outputs": [],
   "source": [
    "# 4. Ponieważ wiek (age) to zmienna docelowa, zdecyduj jak poradzić sobie z brakującymi wartościami w age\n",
    "# (np. usunięcie wierszy z brakami w age)\n",
    "# df = ..."
   ]
  },
  {
   "cell_type": "code",
   "execution_count": null,
   "id": "53b61e11-65a8-4df5-bfdf-a6e7628b1ae6",
   "metadata": {},
   "outputs": [],
   "source": [
    "\n",
    "\n",
    "# 5. Określ kolumny kategoryczne i numeryczne\n",
    "# cat_features = [...]\n",
    "# num_features = [...]\n"
   ]
  },
  {
   "cell_type": "code",
   "execution_count": null,
   "id": "d93197be-2dee-4585-9a71-7cd50e9712e9",
   "metadata": {},
   "outputs": [],
   "source": [
    "\n",
    "# 6. Podziel dane na X i y (y = age), a następnie na zbiór treningowy i testowy\n",
    "# X = ...\n",
    "# y = ...\n",
    "# X_train, X_test, y_train, y_test = ..."
   ]
  },
  {
   "cell_type": "code",
   "execution_count": null,
   "id": "1e345db7-ce59-4a2b-ab78-06cb7a475313",
   "metadata": {},
   "outputs": [],
   "source": [
    "# 7. Stwórz pipeline dla cech numerycznych z imputacją medianą i skalowaniem\n",
    "# num_pipeline = Pipeline([\n",
    "#    ('imputer', SimpleImputer(strategy='median')),\n",
    "#    ('scaler', StandardScaler())\n",
    "# ])"
   ]
  },
  {
   "cell_type": "code",
   "execution_count": null,
   "id": "98a808b5-3621-4799-a3dd-127cb8c0eab5",
   "metadata": {},
   "outputs": [],
   "source": [
    "# 8. Stwórz pipeline dla cech kategorycznych z OneHotEncoder\n",
    "# cat_pipeline = Pipeline([\n",
    "#    ('encoder', OneHotEncoder(drop='first'))\n",
    "# ])"
   ]
  },
  {
   "cell_type": "code",
   "execution_count": null,
   "id": "82c8bd15-3d22-401a-9a93-b3ababe0f0a2",
   "metadata": {},
   "outputs": [],
   "source": [
    "# 9. Stwórz ColumnTransformer łączący oba pipeline’y\n",
    "# preprocessor = ColumnTransformer([\n",
    "#    ('num', num_pipeline, num_features),\n",
    "#    ('cat', cat_pipeline, cat_features)\n",
    "# ], remainder='drop')"
   ]
  },
  {
   "cell_type": "code",
   "execution_count": null,
   "id": "b7083aa7-d66f-4c82-8cb4-81814f917e4a",
   "metadata": {},
   "outputs": [],
   "source": [
    "\n",
    "# 10. Zbuduj pipeline z modelem regresji liniowej i dopasuj do danych treningowych\n",
    "# lin_pipeline = Pipeline([\n",
    "#    ('preprocessing', preprocessor),\n",
    "#    ('model', LinearRegression())\n",
    "# ])\n",
    "# lin_pipeline.fit(X_train, y_train)"
   ]
  },
  {
   "cell_type": "code",
   "execution_count": null,
   "id": "e92ff058-653e-4cf8-8274-668d60d2fe37",
   "metadata": {},
   "outputs": [],
   "source": [
    "\n",
    "\n",
    "# 11. Dokonaj predykcji na zbiorze testowym i oblicz MSE oraz R² dla modelu liniowego\n",
    "# y_pred_lin = ...\n",
    "# mse_lin = ...\n",
    "# r2_lin = ...\n",
    "# print(\"MSE (Linear):\", mse_lin)\n",
    "# print(\"R² (Linear):\", r2_lin)\n"
   ]
  },
  {
   "cell_type": "code",
   "execution_count": null,
   "id": "3bead621-bd33-47df-a057-53e1d5556cc5",
   "metadata": {},
   "outputs": [],
   "source": [
    "\n",
    "\n",
    "# 12. Przetestuj Ridge i Lasso dla różnych wartości alpha\n",
    "# alphas = [0.1, 1, 10, 100]\n"
   ]
  },
  {
   "cell_type": "code",
   "execution_count": null,
   "id": "e55f9b71-f7c2-484e-b2fd-168f358c5da1",
   "metadata": {},
   "outputs": [],
   "source": [
    "# 13. Wyświetl wyniki w formie tabeli (DataFrame) i narysuj wykres MSE vs alpha oraz R² vs alpha\n",
    "# results_df = ...\n",
    "# (results_df)\n",
    "\n",
    "# plt.figure(...)\n",
    "# # wykres dla MSE\n",
    "# # plt.plot(...)\n",
    "# # wykres dla R²\n",
    "# # plt.plot(...)\n",
    "# plt.show()"
   ]
  },
  {
   "cell_type": "code",
   "execution_count": null,
   "id": "97cd1964-236b-426d-ae49-7814bc559eb3",
   "metadata": {},
   "outputs": [],
   "source": [
    "# 14. Podsumuj wyniki w komentarzu: Która metoda działa najlepiej? Jak wpływa alpha na model?\n"
   ]
  }
 ],
 "metadata": {
  "kernelspec": {
   "display_name": "Python 3 (ipykernel)",
   "language": "python",
   "name": "python3"
  },
  "language_info": {
   "codemirror_mode": {
    "name": "ipython",
    "version": 3
   },
   "file_extension": ".py",
   "mimetype": "text/x-python",
   "name": "python",
   "nbconvert_exporter": "python",
   "pygments_lexer": "ipython3",
   "version": "3.11.3"
  }
 },
 "nbformat": 4,
 "nbformat_minor": 5
}
